{
 "cells": [
  {
   "cell_type": "code",
   "execution_count": 6,
   "metadata": {},
   "outputs": [
    {
     "name": "stdout",
     "output_type": "stream",
     "text": [
      "[*********************100%***********************]  2 of 2 completed\n"
     ]
    },
    {
     "ename": "UnboundLocalError",
     "evalue": "local variable 'stockData' referenced before assignment",
     "output_type": "error",
     "traceback": [
      "\u001b[0;31m---------------------------------------------------------------------------\u001b[0m",
      "\u001b[0;31mUnboundLocalError\u001b[0m                         Traceback (most recent call last)",
      "Cell \u001b[0;32mIn[6], line 22\u001b[0m\n\u001b[1;32m     19\u001b[0m endDate \u001b[39m=\u001b[39m dt\u001b[39m.\u001b[39mdatetime\u001b[39m.\u001b[39mnow()\n\u001b[1;32m     20\u001b[0m startDate \u001b[39m=\u001b[39m endDate \u001b[39m-\u001b[39m dt\u001b[39m.\u001b[39mtimedelta(days\u001b[39m=\u001b[39m\u001b[39m300\u001b[39m)\n\u001b[0;32m---> 22\u001b[0m meanReturns, covMatrix \u001b[39m=\u001b[39m get_data(stocks, startDate, endDate)\n\u001b[1;32m     24\u001b[0m weights \u001b[39m=\u001b[39m np\u001b[39m.\u001b[39mrandom\u001b[39m.\u001b[39mrandom(\u001b[39mlen\u001b[39m(meanReturns))\n\u001b[1;32m     25\u001b[0m weights \u001b[39m/\u001b[39m\u001b[39m=\u001b[39m np\u001b[39m.\u001b[39msum(weights)\n",
      "Cell \u001b[0;32mIn[6], line 11\u001b[0m, in \u001b[0;36mget_data\u001b[0;34m(stocks, start, end)\u001b[0m\n\u001b[1;32m      7\u001b[0m \u001b[39mdef\u001b[39;00m \u001b[39mget_data\u001b[39m(stocks, start, end):\n\u001b[1;32m      8\u001b[0m     yf\u001b[39m.\u001b[39mdownload(stocks, start\u001b[39m=\u001b[39m\u001b[39m\"\u001b[39m\u001b[39m2018-01-01\u001b[39m\u001b[39m\"\u001b[39m, end\u001b[39m=\u001b[39mdt\u001b[39m.\u001b[39mdate\u001b[39m.\u001b[39mtoday())[\n\u001b[1;32m      9\u001b[0m         \u001b[39m\"\u001b[39m\u001b[39mClose\u001b[39m\u001b[39m\"\u001b[39m\n\u001b[1;32m     10\u001b[0m     ]\n\u001b[0;32m---> 11\u001b[0m     stockData \u001b[39m=\u001b[39m stockData[\u001b[39m'\u001b[39m\u001b[39mClose\u001b[39m\u001b[39m'\u001b[39m]\n\u001b[1;32m     12\u001b[0m     returns \u001b[39m=\u001b[39m stockData\u001b[39m.\u001b[39mpct_change()\n\u001b[1;32m     13\u001b[0m     meanReturns \u001b[39m=\u001b[39m returns\u001b[39m.\u001b[39mmean()\n",
      "\u001b[0;31mUnboundLocalError\u001b[0m: local variable 'stockData' referenced before assignment"
     ]
    }
   ],
   "source": [
    "import pandas as pd\n",
    "import numpy as np\n",
    "import matplotlib.pyplot as plt\n",
    "import datetime as dt\n",
    "import yfinance as yf\n",
    "# import data\n",
    "def get_data(stocks, start, end):\n",
    "    stockData=yf.download(stocks, start=\"2018-01-01\", end=dt.date.today())[\n",
    "        \"Close\"\n",
    "    ]\n",
    "    stockData = stockData['Close']\n",
    "    returns = stockData.pct_change()\n",
    "    meanReturns = returns.mean()\n",
    "    covMatrix = returns.cov()\n",
    "    return meanReturns, covMatrix\n",
    "\n",
    "stocks = ['AAPL','MSFT']\n",
    "# stocks = [stock + '.AX' for stock in stockList]\n",
    "endDate = dt.datetime.now()\n",
    "startDate = endDate - dt.timedelta(days=300)\n",
    "\n",
    "meanReturns, covMatrix = get_data(stocks, startDate, endDate)\n",
    "\n",
    "weights = np.random.random(len(meanReturns))\n",
    "weights /= np.sum(weights)"
   ]
  },
  {
   "cell_type": "code",
   "execution_count": null,
   "metadata": {},
   "outputs": [],
   "source": [
    "# Monte Carlo Method\n",
    "mc_sims = 400 # number of simulations\n",
    "T = 100 #timeframe in days\n",
    "\n",
    "meanM = np.full(shape=(T, len(weights)), fill_value=meanReturns)\n",
    "meanM = meanM.T\n",
    "\n",
    "portfolio_sims = np.full(shape=(T, mc_sims), fill_value=0.0)\n",
    "\n",
    "initialPortfolio = 10000\n",
    "\n",
    "for m in range(0, mc_sims):\n",
    "    Z = np.random.normal(size=(T, len(weights)))#uncorrelated RV's\n",
    "    L = np.linalg.cholesky(covMatrix) #Cholesky decomposition to Lower Triangular Matrix\n",
    "    dailyReturns = meanM + np.inner(L, Z) #Correlated daily returns for individual stocks\n",
    "    portfolio_sims[:,m] = np.cumprod(np.inner(weights, dailyReturns.T)+1)*initialPortfolio\n",
    "\n",
    "plt.plot(portfolio_sims)\n",
    "plt.ylabel('Portfolio Value ($)')\n",
    "plt.xlabel('Days')\n",
    "plt.title('MC simulation of a stock portfolio')\n",
    "plt.show()"
   ]
  }
 ],
 "metadata": {
  "kernelspec": {
   "display_name": "stock-trading-lPz4ZuDG-py3.9",
   "language": "python",
   "name": "python3"
  },
  "language_info": {
   "codemirror_mode": {
    "name": "ipython",
    "version": 3
   },
   "file_extension": ".py",
   "mimetype": "text/x-python",
   "name": "python",
   "nbconvert_exporter": "python",
   "pygments_lexer": "ipython3",
   "version": "3.9.10"
  },
  "orig_nbformat": 4,
  "vscode": {
   "interpreter": {
    "hash": "03e0a0d65bc982e13ff0a8b44215c16a207b5236ae0415dffc1a8493e07a3052"
   }
  }
 },
 "nbformat": 4,
 "nbformat_minor": 2
}
